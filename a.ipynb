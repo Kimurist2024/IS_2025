{
 "cells": [
  {
   "cell_type": "code",
   "execution_count": 3,
   "metadata": {},
   "outputs": [],
   "source": [
    "from itertools import combinations\n",
    "\n",
    "def main():\n",
    "    import sys\n",
    "    input = sys.stdin.read\n",
    "    data = input().split()\n",
    "\n",
    "    idx = 0\n",
    "    N = int(data[idx]); idx += 1\n",
    "    M = int(data[idx]); idx += 1\n",
    "\n",
    "    C = list(map(int, data[idx:idx+N])); idx += N\n",
    "\n",
    "    animal_in_zoos = [[] for _ in range(M)]\n",
    "    for i in range(M):\n",
    "        K = int(data[idx]); idx += 1\n",
    "        for _ in range(K):\n",
    "            z = int(data[idx]) - 1  # 0-indexed\n",
    "            animal_in_zoos[i].append(z)\n",
    "            idx += 1\n",
    "\n",
    "    min_cost = float('inf')\n",
    "    for bit in range(1 << N):  # 全ての動物園の選び方\n",
    "        selected_zoos = []\n",
    "        for i in range(N):\n",
    "            if bit & (1 << i):\n",
    "                selected_zoos.append(i)\n",
    "\n",
    "        # 動物ごとに何回見られるかカウント\n",
    "        animal_count = [0] * M\n",
    "        for m in range(M):\n",
    "            for z in animal_in_zoos[m]:\n",
    "                if z in selected_zoos:\n",
    "                    animal_count[m] += 1\n",
    "\n",
    "        if all(c >= 2 for c in animal_count):\n",
    "            cost = sum(C[z] for z in selected_zoos)\n",
    "            min_cost = min(min_cost, cost)\n",
    "\n",
    "    print(min_cost)\n"
   ]
  },
  {
   "cell_type": "code",
   "execution_count": 4,
   "metadata": {},
   "outputs": [
    {
     "ename": "ValueError",
     "evalue": "invalid literal for int() with base 10: ''",
     "output_type": "error",
     "traceback": [
      "\u001b[31m---------------------------------------------------------------------------\u001b[39m",
      "\u001b[31mValueError\u001b[39m                                Traceback (most recent call last)",
      "\u001b[36mCell\u001b[39m\u001b[36m \u001b[39m\u001b[32mIn[4]\u001b[39m\u001b[32m, line 24\u001b[39m\n\u001b[32m     21\u001b[39m     \u001b[38;5;28mprint\u001b[39m(min_ops)\n\u001b[32m     23\u001b[39m \u001b[38;5;28;01mif\u001b[39;00m \u001b[34m__name__\u001b[39m == \u001b[33m'\u001b[39m\u001b[33m__main__\u001b[39m\u001b[33m'\u001b[39m:\n\u001b[32m---> \u001b[39m\u001b[32m24\u001b[39m     \u001b[43mmain\u001b[49m\u001b[43m(\u001b[49m\u001b[43m)\u001b[49m\n",
      "\u001b[36mCell\u001b[39m\u001b[36m \u001b[39m\u001b[32mIn[4]\u001b[39m\u001b[32m, line 10\u001b[39m, in \u001b[36mmain\u001b[39m\u001b[34m()\u001b[39m\n\u001b[32m      9\u001b[39m \u001b[38;5;28;01mdef\u001b[39;00m\u001b[38;5;250m \u001b[39m\u001b[34mmain\u001b[39m():\n\u001b[32m---> \u001b[39m\u001b[32m10\u001b[39m     N = \u001b[38;5;28;43mint\u001b[39;49m\u001b[43m(\u001b[49m\u001b[38;5;28;43minput\u001b[39;49m\u001b[43m(\u001b[49m\u001b[43m)\u001b[49m\u001b[43m)\u001b[49m\n\u001b[32m     11\u001b[39m     S = [\u001b[38;5;28minput\u001b[39m().strip() \u001b[38;5;28;01mfor\u001b[39;00m _ \u001b[38;5;129;01min\u001b[39;00m \u001b[38;5;28mrange\u001b[39m(N)]\n\u001b[32m     12\u001b[39m     T = [\u001b[38;5;28minput\u001b[39m().strip() \u001b[38;5;28;01mfor\u001b[39;00m _ \u001b[38;5;129;01min\u001b[39;00m \u001b[38;5;28mrange\u001b[39m(N)]\n",
      "\u001b[31mValueError\u001b[39m: invalid literal for int() with base 10: ''"
     ]
    }
   ],
   "source": [
    "def rotate(grid):\n",
    "    \"\"\"グリッドを90度右回転\"\"\"\n",
    "    return [''.join(row) for row in zip(*grid[::-1])]\n",
    "\n",
    "def count_diff(g1, g2):\n",
    "    \"\"\"2つのグリッドの差分をカウント\"\"\"\n",
    "    return sum(c1 != c2 for row1, row2 in zip(g1, g2) for c1, c2 in zip(row1, row2))\n",
    "\n",
    "def main():\n",
    "    N = int(input())\n",
    "    S = [input().strip() for _ in range(N)]\n",
    "    T = [input().strip() for _ in range(N)]\n",
    "\n",
    "    min_ops = float('inf')\n",
    "    for rot in range(4):\n",
    "        diff = count_diff(S, T)\n",
    "        total_ops = rot + diff\n",
    "        min_ops = min(min_ops, total_ops)\n",
    "        S = rotate(S)  # 次の回転\n",
    "\n",
    "    print(min_ops)\n",
    "\n",
    "if __name__ == '__main__':\n",
    "    main()\n"
   ]
  },
  {
   "cell_type": "code",
   "execution_count": 6,
   "metadata": {},
   "outputs": [
    {
     "name": "stdout",
     "output_type": "stream",
     "text": [
      "1900\n"
     ]
    }
   ],
   "source": [
    "N, M = map(int, input().split())\n",
    "C = list(map(int, input().split()))\n",
    "\n",
    "animal_in_zoos = []\n",
    "for _ in range(M):\n",
    "    info = list(map(int, input().split()))\n",
    "    K = info[0]\n",
    "    animal_in_zoos.append([x - 1 for x in info[1:]])\n",
    "\n",
    "min_cost = float('inf')\n",
    "\n",
    "for bit in range(1 << N):\n",
    "    selected_zoos = [i for i in range(N) if bit & (1 << i)]\n",
    "\n",
    "    animal_count = [0] * M\n",
    "    for m in range(M):\n",
    "        for z in animal_in_zoos[m]:\n",
    "            if z in selected_zoos:\n",
    "                animal_count[m] += 1\n",
    "\n",
    "    if all(cnt >= 2 for cnt in animal_count):\n",
    "        cost = sum(C[i] for i in selected_zoos)\n",
    "        min_cost = min(min_cost, cost)\n",
    "\n",
    "print(min_cost)\n"
   ]
  },
  {
   "cell_type": "code",
   "execution_count": 8,
   "metadata": {},
   "outputs": [
    {
     "name": "stdout",
     "output_type": "stream",
     "text": [
      "1800\n"
     ]
    }
   ],
   "source": [
    "import heapq\n",
    "\n",
    "def solve():\n",
    "    # 入力（固定）\n",
    "    N = 4\n",
    "    M = 3\n",
    "    C = [1000, 300, 700, 200]\n",
    "    animal_info = [\n",
    "        [1, 3, 4],  # 動物1\n",
    "        [1, 2, 4],  # 動物2\n",
    "        [1, 3]      # 動物3\n",
    "    ]\n",
    "\n",
    "    # 動物園ごとに見られる動物を登録\n",
    "    zoo_animals = [set() for _ in range(N)]  # 0-indexed\n",
    "    for m in range(M):\n",
    "        for z in animal_info[m]:\n",
    "            zoo_animals[z - 1].add(m)  # zを0-indexedに\n",
    "\n",
    "    # 初期状態（動物ごとの観察回数：0, コスト：0）\n",
    "    start_state = (0, tuple([0] * M))  # (cost, (動物0~M-1の観察回数))\n",
    "\n",
    "    hq = []\n",
    "    heapq.heappush(hq, start_state)\n",
    "\n",
    "    visited = set()\n",
    "\n",
    "    while hq:\n",
    "        cost, counts = heapq.heappop(hq)\n",
    "\n",
    "        if all(c >= 2 for c in counts):\n",
    "            print(cost)\n",
    "            return\n",
    "\n",
    "        if counts in visited:\n",
    "            continue\n",
    "        visited.add(counts)\n",
    "\n",
    "        for i in range(N):  # 各動物園を訪れる選択\n",
    "            new_counts = list(counts)\n",
    "            for m in zoo_animals[i]:\n",
    "                new_counts[m] = min(new_counts[m] + 1, 2)  # 上限2回\n",
    "            heapq.heappush(hq, (cost + C[i], tuple(new_counts)))\n",
    "\n",
    "    print(-1)  # 到達不能な場合（この問題では発生しない）\n",
    "\n",
    "# 実行\n",
    "solve()\n"
   ]
  },
  {
   "cell_type": "code",
   "execution_count": 11,
   "metadata": {},
   "outputs": [
    {
     "ename": "ValueError",
     "evalue": "too many values to unpack (expected 2)",
     "output_type": "error",
     "traceback": [
      "\u001b[31m---------------------------------------------------------------------------\u001b[39m",
      "\u001b[31mValueError\u001b[39m                                Traceback (most recent call last)",
      "\u001b[36mCell\u001b[39m\u001b[36m \u001b[39m\u001b[32mIn[11]\u001b[39m\u001b[32m, line 42\u001b[39m\n\u001b[32m     39\u001b[39m     \u001b[38;5;28mprint\u001b[39m(-\u001b[32m1\u001b[39m)  \u001b[38;5;66;03m# 到達できない場合（この問題では発生しない）\u001b[39;00m\n\u001b[32m     41\u001b[39m \u001b[38;5;28;01mif\u001b[39;00m \u001b[34m__name__\u001b[39m == \u001b[33m\"\u001b[39m\u001b[33m__main__\u001b[39m\u001b[33m\"\u001b[39m:\n\u001b[32m---> \u001b[39m\u001b[32m42\u001b[39m     \u001b[43mmain\u001b[49m\u001b[43m(\u001b[49m\u001b[43m)\u001b[49m\n",
      "\u001b[36mCell\u001b[39m\u001b[36m \u001b[39m\u001b[32mIn[11]\u001b[39m\u001b[32m, line 4\u001b[39m, in \u001b[36mmain\u001b[39m\u001b[34m()\u001b[39m\n\u001b[32m      3\u001b[39m \u001b[38;5;28;01mdef\u001b[39;00m\u001b[38;5;250m \u001b[39m\u001b[34mmain\u001b[39m():\n\u001b[32m----> \u001b[39m\u001b[32m4\u001b[39m     N, M = \u001b[38;5;28mmap\u001b[39m(\u001b[38;5;28mint\u001b[39m, \u001b[38;5;28minput\u001b[39m().split())\n\u001b[32m      5\u001b[39m     C = \u001b[38;5;28mlist\u001b[39m(\u001b[38;5;28mmap\u001b[39m(\u001b[38;5;28mint\u001b[39m, \u001b[38;5;28minput\u001b[39m().split()))\n\u001b[32m      7\u001b[39m     zoo_animals = [\u001b[38;5;28mset\u001b[39m() \u001b[38;5;28;01mfor\u001b[39;00m _ \u001b[38;5;129;01min\u001b[39;00m \u001b[38;5;28mrange\u001b[39m(N)]  \u001b[38;5;66;03m# 各動物園で見られる動物のセット\u001b[39;00m\n",
      "\u001b[31mValueError\u001b[39m: too many values to unpack (expected 2)"
     ]
    }
   ],
   "source": [
    "import heapq\n",
    "\n",
    "def main():\n",
    "    N, M = map(int, input().split())\n",
    "    C = list(map(int, input().split()))\n",
    "\n",
    "    zoo_animals = [set() for _ in range(N)]  # 各動物園で見られる動物のセット\n",
    "\n",
    "    for m in range(M):\n",
    "        info = list(map(int, input().split()))\n",
    "        K = info[0]\n",
    "        for z in info[1:]:\n",
    "            zoo_animals[z - 1].add(m)  # z: 動物園番号 → 0-indexedに変換\n",
    "\n",
    "    # 初期状態（動物ごとの観察回数0, コスト0）\n",
    "    start_state = (0, tuple([0] * M))\n",
    "\n",
    "    hq = []\n",
    "    heapq.heappush(hq, start_state)\n",
    "    visited = set()\n",
    "\n",
    "    while hq:\n",
    "        cost, counts = heapq.heappop(hq)\n",
    "\n",
    "        if all(c >= 2 for c in counts):\n",
    "            print(cost)\n",
    "            return\n",
    "\n",
    "        if counts in visited:\n",
    "            continue\n",
    "        visited.add(counts)\n",
    "\n",
    "        for i in range(N):  # 各動物園を訪れる\n",
    "            new_counts = list(counts)\n",
    "            for m in zoo_animals[i]:\n",
    "                new_counts[m] = min(new_counts[m] + 1, 2)  # 各動物最大2回まで数える\n",
    "            heapq.heappush(hq, (cost + C[i], tuple(new_counts)))\n",
    "\n",
    "    print(-1)  # 到達できない場合（この問題では発生しない）\n",
    "\n",
    "if __name__ == \"__main__\":\n",
    "    main()\n"
   ]
  }
 ],
 "metadata": {
  "kernelspec": {
   "display_name": ".venv",
   "language": "python",
   "name": "python3"
  },
  "language_info": {
   "codemirror_mode": {
    "name": "ipython",
    "version": 3
   },
   "file_extension": ".py",
   "mimetype": "text/x-python",
   "name": "python",
   "nbconvert_exporter": "python",
   "pygments_lexer": "ipython3",
   "version": "3.13.2"
  }
 },
 "nbformat": 4,
 "nbformat_minor": 2
}
